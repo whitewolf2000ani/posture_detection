{
  "nbformat": 4,
  "nbformat_minor": 0,
  "metadata": {
    "colab": {
      "provenance": [],
      "authorship_tag": "ABX9TyNDEN6IUkOUaJN6qs97g+i7",
      "include_colab_link": true
    },
    "kernelspec": {
      "name": "python3",
      "display_name": "Python 3"
    },
    "language_info": {
      "name": "python"
    }
  },
  "cells": [
    {
      "cell_type": "markdown",
      "metadata": {
        "id": "view-in-github",
        "colab_type": "text"
      },
      "source": [
        "<a href=\"https://colab.research.google.com/github/whitewolf2000ani/posture_detection/blob/master/Game.ipynb\" target=\"_parent\"><img src=\"https://colab.research.google.com/assets/colab-badge.svg\" alt=\"Open In Colab\"/></a>"
      ]
    },
    {
      "cell_type": "code",
      "source": [
        "import pygame\n",
        "import random"
      ],
      "metadata": {
        "id": "qiKIbwj5cMSH"
      },
      "execution_count": 9,
      "outputs": []
    },
    {
      "cell_type": "code",
      "execution_count": 10,
      "metadata": {
        "id": "lQHm4YSGX3H0"
      },
      "outputs": [],
      "source": [
        "# Initialize Pygame\n",
        "pygame.init()\n",
        "\n",
        "# Set screen dimensions\n",
        "screen_width = 500\n",
        "screen_height = 800\n",
        "screen = pygame.display.set_mode((screen_width, screen_height))\n",
        "pygame.display.set_caption(\"Flappy Bird\")\n",
        "\n",
        "# Game variables\n",
        "bird_image = pygame.image.load(\"bird.png\")  # Replace with your bird image path\n",
        "bird_rect = bird_image.get_rect(center=(50, screen_height // 2))\n",
        "\n",
        "pipe_image = pygame.image.load(\"pipe.png\")  # Replace with your pipe image path\n",
        "pipe_width = pipe_image.get_width()\n",
        "pipe_height = pipe_image.get_height()\n",
        "pipe_gap = 150\n",
        "pipe_list = []\n",
        "\n",
        "gravity = 0.25\n",
        "bird_flap_speed = -5\n",
        "\n",
        "score = 0\n",
        "\n",
        "# Game functions\n",
        "def create_pipe():\n",
        "    pipe_top = random.randrange(50, screen_height - pipe_gap - pipe_height)\n",
        "    pipe_bottom = pipe_top + pipe_height + pipe_gap\n",
        "    return pipe_top, pipe_bottom\n",
        "\n",
        "def move_pipes():\n",
        "    if pipe_list:  # Check if the list has elements\n",
        "        for pipe in pipe_list:\n",
        "            pipe.centerx -= 5\n",
        "        if pipe_list[0].centerx < -pipe_width:\n",
        "            pipe_list.pop(0)\n",
        "\n",
        "def check_collisions():\n",
        "    global score\n",
        "    for pipe in pipe_list:\n",
        "        if bird_rect.colliderect(pipe):\n",
        "            return True\n",
        "    if bird_rect.top < 0 or bird_rect.bottom > screen_height:\n",
        "        return True\n",
        "    if pipe_list and pipe_list[0].centerx < bird_rect.centerx:\n",
        "        score += 1\n",
        "\n",
        "# Game loop\n",
        "running = True\n",
        "while running:\n",
        "    for event in pygame.event.get():\n",
        "        if event.type == pygame.QUIT:\n",
        "            running = False\n",
        "        if event.type == pygame.KEYDOWN:\n",
        "            if event.key == pygame.K_SPACE:\n",
        "                bird_rect.centery += bird_flap_speed\n",
        "\n",
        "    screen.fill((255, 255, 255))  # Background color\n",
        "\n",
        "    # Draw bird\n",
        "    screen.blit(bird_image, bird_rect)\n",
        "\n",
        "    # Move pipes and create new ones\n",
        "    move_pipes()\n",
        "    if not pipe_list or pipe_list[-1].centerx < screen_width - 2 * pipe_width:\n",
        "        pipe_top, pipe_bottom = create_pipe()\n",
        "        pipe_list.append(pipe_image.get_rect(midtop=(screen_width, pipe_top)))\n",
        "        pipe_list.append(pipe_image.get_rect(midbottom=(screen_width, pipe_bottom)))\n",
        "\n",
        "    # Draw pipes\n",
        "    for pipe in pipe_list:\n",
        "        screen.blit(pipe_image, pipe)\n",
        "\n",
        "    # Bird movement\n",
        "    bird_rect.centery += gravity\n",
        "\n",
        "    # Check for collisions\n",
        "    if check_collisions():\n",
        "        running = False\n",
        "\n",
        "    # Display score\n",
        "    font = pygame.font.Font(None, 36)\n",
        "    text = font.render(\"Score: \" + str(score), True, (0, 0, 0))\n",
        "    screen.blit(text, (10, 10))\n",
        "\n",
        "    pygame.display.update()\n",
        "\n",
        "pygame.quit()\n"
      ]
    }
  ]
}